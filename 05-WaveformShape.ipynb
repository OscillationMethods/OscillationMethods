{
 "cells": [
  {
   "cell_type": "markdown",
   "metadata": {},
   "source": [
    "# Waveform Shape\n",
    "\n",
    "Topic: waveform shape of periodic components\n",
    "\n",
    "Sim: simulate different shapes, show limitations\n",
    "\n",
    "- Show how filtering non-sinuisoidal rhythms distorts their shape\n",
    "    - could show the phase distortions\n",
    "- Artifactual phase-amplitude coupling from non-sinuisoidal rhythms\n",
    "- Harmonic troubles: analyzing 'beta' power from alpha harmonic\n",
    "\n",
    "Core citations / links:\n",
    "\n",
    "- Scott Cole papers / ByCycle, PAC papers, Lozano-Soldevilla papers, Jones review"
   ]
  },
  {
   "cell_type": "code",
   "execution_count": null,
   "metadata": {},
   "outputs": [],
   "source": []
  }
 ],
 "metadata": {
  "kernelspec": {
   "display_name": "Python 3",
   "language": "python",
   "name": "python3"
  },
  "language_info": {
   "codemirror_mode": {
    "name": "ipython",
    "version": 3
   },
   "file_extension": ".py",
   "mimetype": "text/x-python",
   "name": "python",
   "nbconvert_exporter": "python",
   "pygments_lexer": "ipython3",
   "version": "3.7.4"
  }
 },
 "nbformat": 4,
 "nbformat_minor": 4
}
