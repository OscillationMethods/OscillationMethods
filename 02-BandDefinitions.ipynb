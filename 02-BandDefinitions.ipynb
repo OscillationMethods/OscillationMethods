{
 "cells": [
  {
   "cell_type": "markdown",
   "metadata": {},
   "source": [
    "# Band Definitions\n",
    "\n",
    "Topic: defining and applying frequency bands definitions for analyzing oscillations\n",
    "\n",
    "Sim: demonstrate analyses with different band definitions\n",
    "\n",
    "- FOOOF Band-by-Band example\n",
    "    - https://fooof-tools.github.io/fooof/auto_motivations/measurements/plot_BandByBand.html\n",
    "- Show mis-alignment of signal and bandpass filter / wrong pass-bands\n",
    "\n",
    "Core citations / links:\n",
    "\n",
    "- Wei He's paper"
   ]
  },
  {
   "cell_type": "code",
   "execution_count": null,
   "metadata": {},
   "outputs": [],
   "source": []
  }
 ],
 "metadata": {
  "kernelspec": {
   "display_name": "Python 3",
   "language": "python",
   "name": "python3"
  },
  "language_info": {
   "codemirror_mode": {
    "name": "ipython",
    "version": 3
   },
   "file_extension": ".py",
   "mimetype": "text/x-python",
   "name": "python",
   "nbconvert_exporter": "python",
   "pygments_lexer": "ipython3",
   "version": "3.7.4"
  }
 },
 "nbformat": 4,
 "nbformat_minor": 4
}
