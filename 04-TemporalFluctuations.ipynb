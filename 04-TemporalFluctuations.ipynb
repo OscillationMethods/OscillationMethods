{
 "cells": [
  {
   "cell_type": "markdown",
   "metadata": {},
   "source": [
    "# Temporal Fluctuations\n",
    "\n",
    "Topic: periodic activity can be variable through time.\n",
    "\n",
    "Sim: demonstrate that signals with different amounts of bursty-ness show power differences\n",
    "\n",
    "- can show across continuous data, and also simulating 'epochs'\n",
    "- can compare to power differences of continuous oscillations\n",
    "\n",
    "Core citations / links:\n",
    "\n",
    "- Jones lab work on this topic / link to their paper(s) "
   ]
  },
  {
   "cell_type": "code",
   "execution_count": null,
   "metadata": {},
   "outputs": [],
   "source": []
  }
 ],
 "metadata": {
  "kernelspec": {
   "display_name": "Python 3",
   "language": "python",
   "name": "python3"
  },
  "language_info": {
   "codemirror_mode": {
    "name": "ipython",
    "version": 3
   },
   "file_extension": ".py",
   "mimetype": "text/x-python",
   "name": "python",
   "nbconvert_exporter": "python",
   "pygments_lexer": "ipython3",
   "version": "3.7.4"
  }
 },
 "nbformat": 4,
 "nbformat_minor": 4
}
