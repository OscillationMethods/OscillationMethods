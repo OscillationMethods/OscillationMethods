{
 "cells": [
  {
   "cell_type": "markdown",
   "metadata": {},
   "source": [
    "# Separation of Rhythms\n",
    "\n",
    "Topic: overlapping rhythms can be an issue\n",
    "\n",
    "Sim: look at the influence of overlapping rhythmic components\n",
    "\n",
    "- simulate overlapping rhythms, and show some issues of that\n",
    "    - phase estimates (?)\n",
    "- demonstrate simple source separation approaches"
   ]
  },
  {
   "cell_type": "code",
   "execution_count": null,
   "metadata": {},
   "outputs": [],
   "source": []
  }
 ],
 "metadata": {
  "kernelspec": {
   "display_name": "Python 3",
   "language": "python",
   "name": "python3"
  },
  "language_info": {
   "codemirror_mode": {
    "name": "ipython",
    "version": 3
   },
   "file_extension": ".py",
   "mimetype": "text/x-python",
   "name": "python",
   "nbconvert_exporter": "python",
   "pygments_lexer": "ipython3",
   "version": "3.7.4"
  }
 },
 "nbformat": 4,
 "nbformat_minor": 4
}
