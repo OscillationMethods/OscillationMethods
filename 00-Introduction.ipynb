{
 "cells": [
  {
   "cell_type": "markdown",
   "metadata": {},
   "source": [
    "# Introduction\n",
    "\n",
    "This project is an overview of a series of _methodological considerations_ for measuring and investigating neural oscillations.\n",
    "\n",
    "This project is broadly a type of methods review, highlighting what we consider to be important considerations. Each topic also includes a description of the issue, an exemplary demonstration, and notes on how to avoid the issue. Each topic is chosen as it reflects a general consideration that relates fairly broadly to analyses of neural oscillations. The topics are not claimed to be novel observations, and we also link out to other work that has highlighted, demonstrated, and discussed the topic at hand. "
   ]
  },
  {
   "cell_type": "markdown",
   "metadata": {},
   "source": [
    "## Overview\n",
    "\n",
    "The methodological considerations covered in this project are:\n",
    "- #1) detecting oscillations\n",
    "- #2) band definitions\n",
    "- #3) aperiodic activity\n",
    "- #4) temporal variability\n",
    "- #5) waveform shape\n",
    "- #6) overlapping sources\n",
    "- #7) signal-to-noise ratio\n",
    "\n",
    "Each topic is covered in a dedicated notebook, that introduces the problem, demonstrates some examples of the problem, and then notes strategies for checking and addressing the issue. "
   ]
  },
  {
   "cell_type": "markdown",
   "metadata": {},
   "source": [
    "## Simulations\n",
    "\n",
    "Each topic is demonstrated using simulated data. \n",
    "\n",
    "Simulated data are used as they allow for precise control over on the properties of the data, in order to isolate and demonstrate each topic of interest.\n",
    "\n",
    "Simulations are created as time series, using the\n",
    "[neurodsp](https://neurodsp-tools.github.io/) toolbox. \n",
    "\n",
    "Simulations follow the framework in which descriptively plausible neural time series can be created as \n",
    "combinations of periodic and aperiodic activity. "
   ]
  },
  {
   "cell_type": "markdown",
   "metadata": {},
   "source": [
    "## Analysis Tools\n",
    "\n",
    "Throughout this project, we will be using a collection of novel tools and packages, including:\n",
    "- Parameterizing Neural Power Spectra (FOOOF)\n",
    "    - Tool link: https://fooof-tools.github.io/\n",
    "    - Reference paper: https://doi.org/10.1101/299859 \n",
    "- Cycle-by-Cycle Analyses (ByCycle)\n",
    "    - Tool link: https://bycycle-tools.github.io/\n",
    "    - Reference paper: https://doi.org/10.1152/jn.00273.2019\n",
    "- Neural Digital Signal Processing (NeuroDSP)\n",
    "    - Tool Link: https://neurodsp-tools.github.io/\n",
    "    - Reference paper: https://doi.org/10.21105/joss.01272\n",
    "    \n",
    "These are open-source Python packages, with implementations of both existing and novel methods for the analysis of neural oscillations. The novel methods include those that have been developed with some of these methodological considerations in mind. Throughout the notebooks, we will also mention other tools that relate to some of the identified issues. "
   ]
  },
  {
   "cell_type": "markdown",
   "metadata": {},
   "source": [
    "## Visualizations\n",
    "\n",
    "Plots and visualizations of the topics are created using the visualization tools from the packages used to analyze the data. "
   ]
  },
  {
   "cell_type": "markdown",
   "metadata": {},
   "source": [
    "## Conclusion\n",
    "\n",
    "This project covers methodological considerations for studying neural oscillations. \n",
    "\n",
    "To continue through this project, check through the subsequent notebooks that describe the topics. "
   ]
  }
 ],
 "metadata": {
  "kernelspec": {
   "display_name": "Python 3",
   "language": "python",
   "name": "python3"
  },
  "language_info": {
   "codemirror_mode": {
    "name": "ipython",
    "version": 3
   },
   "file_extension": ".py",
   "mimetype": "text/x-python",
   "name": "python",
   "nbconvert_exporter": "python",
   "pygments_lexer": "ipython3",
   "version": "3.7.4"
  }
 },
 "nbformat": 4,
 "nbformat_minor": 4
}
