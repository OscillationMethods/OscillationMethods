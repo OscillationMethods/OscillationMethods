{
 "cells": [
  {
   "cell_type": "markdown",
   "metadata": {},
   "source": [
    "# Introduction\n",
    "\n",
    "This project is an overview of _methodological considerations_ for measuring and investigating neural oscillations.\n",
    "\n",
    "This project is broadly a review of methodological topics, and largely focuses on relationships between data properties and methods assumptions. \n",
    "\n",
    "The project is organized into seven key topics.\n",
    "\n",
    "Each topic includes a description of the issue, example demonstrations, and notes on how to avoid the issue. Each topic was chosen to reflect a general considerations that is broadly relevant to at least many investigations of neural oscillations. This project aims to collect together discussion of these considerations, though many of these topics have been been discussed in the literature before, and we also link out to other work that has highlighted, demonstrated, and discussed the topic at hand. "
   ]
  },
  {
   "cell_type": "markdown",
   "metadata": {},
   "source": [
    "## Organization of the Project\n",
    "\n",
    "Each topic is covered in a dedicated notebook, that introduces the problem and demonstrates some examples. \n",
    "\n",
    "To do so, we use simulated data and common analysis tools to explore and demonstrate potential methodological limitations. \n",
    "\n",
    "The methodological considerations covered in this project are:\n",
    "- #1) detecting oscillations\n",
    "- #2) band definitions\n",
    "- #3) aperiodic activity\n",
    "- #4) temporal variability\n",
    "- #5) waveform shape\n",
    "- #6) overlapping sources\n",
    "- #7) signal-to-noise ratio"
   ]
  },
  {
   "cell_type": "markdown",
   "metadata": {},
   "source": [
    "### Simulations\n",
    "\n",
    "Each topic is demonstrated using simulated data. We use simulated data as it allows for precise control over properties of the data, and the capacity to isolate and demonstrate individual features of the data, and topics of interest.\n",
    "\n",
    "The simulations take the approach of creating neural time series as combinations of periodic and aperiodic activity. \n",
    "\n",
    "All simulations are simulated are created with the\n",
    "[neurodsp](https://neurodsp-tools.github.io/) toolbox."
   ]
  },
  {
   "cell_type": "markdown",
   "metadata": {},
   "source": [
    "### Analysis Tools\n",
    "\n",
    "Throughout this project, we use open-source Python toolboxes, including common modules from the scientific Python ecosystem, including numpy, scipy, matplotlib, seaborn, etc. \n",
    "\n",
    "Simulations & analyses are done with NeuroDSP, a Python tool for digital signal processing of neural time series:\n",
    "\n",
    "- Neural Digital Signal Processing (NeuroDSP)\n",
    "    - Tool Link: https://neurodsp-tools.github.io/\n",
    "    - Reference paper: https://doi.org/10.21105/joss.01272\n",
    "\n",
    "Some of the analyses additional use specialized tools for particular analyses:\n",
    "\n",
    "- Parameterizing Neural Power Spectra\n",
    "    - Tool link: https://fooof-tools.github.io/\n",
    "    - Reference paper: https://doi.org/10.1101/299859 \n",
    "- Cycle-by-Cycle Analyses (ByCycle)\n",
    "    - Tool link: https://bycycle-tools.github.io/\n",
    "    - Reference paper: https://doi.org/10.1152/jn.00273.2019\n",
    "\n",
    "All of the code for this project is openly available in this repository, and the aforementioned tools are all open-source and readily available."
   ]
  },
  {
   "cell_type": "markdown",
   "metadata": {},
   "source": [
    "## Conclusion\n",
    "\n",
    "This project covers methodological considerations for studying neural oscillations. \n",
    "\n",
    "To continue through this project, check through the subsequent notebooks that describe each of the topics. "
   ]
  }
 ],
 "metadata": {
  "kernelspec": {
   "display_name": "Python 3",
   "language": "python",
   "name": "python3"
  },
  "language_info": {
   "codemirror_mode": {
    "name": "ipython",
    "version": 3
   },
   "file_extension": ".py",
   "mimetype": "text/x-python",
   "name": "python",
   "nbconvert_exporter": "python",
   "pygments_lexer": "ipython3",
   "version": "3.8.3"
  }
 },
 "nbformat": 4,
 "nbformat_minor": 4
}
