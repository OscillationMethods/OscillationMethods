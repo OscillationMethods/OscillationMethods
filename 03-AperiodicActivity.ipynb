{
 "cells": [
  {
   "cell_type": "markdown",
   "metadata": {},
   "source": [
    "# Aperiodic Activity\n",
    "\n",
    "Topic: aperiodic activity is present, and is itself dynamics - making it a tricky confound for many analyses\n",
    "\n",
    "Sim: demonstate how aperiodic activity, and changes within in, can be mis-interpreted\n",
    "\n",
    "- FOOOF figure\n",
    "    - https://fooof-tools.github.io/fooof/auto_motivations/measurements/plot_PeriodicAperiodicFeatures.html\n",
    "- Filtering aperiodic activity, with changes in aperiodic\n",
    "    - https://fooof-tools.github.io/fooof/auto_motivations/concepts/plot_IfYouFilterTheyWillCome.html\n",
    "\n",
    "Core citations / links:\n",
    "\n",
    "- He et al 2014, FOOOF Paper"
   ]
  },
  {
   "cell_type": "code",
   "execution_count": null,
   "metadata": {},
   "outputs": [],
   "source": []
  }
 ],
 "metadata": {
  "kernelspec": {
   "display_name": "Python 3",
   "language": "python",
   "name": "python3"
  },
  "language_info": {
   "codemirror_mode": {
    "name": "ipython",
    "version": 3
   },
   "file_extension": ".py",
   "mimetype": "text/x-python",
   "name": "python",
   "nbconvert_exporter": "python",
   "pygments_lexer": "ipython3",
   "version": "3.7.4"
  }
 },
 "nbformat": 4,
 "nbformat_minor": 4
}
