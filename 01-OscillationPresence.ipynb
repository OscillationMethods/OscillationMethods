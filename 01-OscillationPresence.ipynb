{
 "cells": [
  {
   "cell_type": "markdown",
   "metadata": {},
   "source": [
    "# Oscillation Presence\n",
    "\n",
    "Topic: periodic activity may or may not actually be present\n",
    "\n",
    "Sim: demonstrate signals with and without periodic activity.\n",
    "\n",
    "- FOOOF rhythmicity example\n",
    "    - https://fooof-tools.github.io/fooof/auto_motivations/concepts/plot_DoYouEvenOscillate.htm\n",
    "- FOOOF filter example\n",
    "    - https://fooof-tools.github.io/fooof/auto_motivations/concepts/plot_IfYouFilterTheyWillCome.html\n",
    "- Also related to FOOOF paper Fig S1.\n",
    "\n",
    "Core citations / links:\n",
    "\n",
    "- FOOOF"
   ]
  },
  {
   "cell_type": "code",
   "execution_count": null,
   "metadata": {},
   "outputs": [],
   "source": []
  }
 ],
 "metadata": {
  "kernelspec": {
   "display_name": "Python 3",
   "language": "python",
   "name": "python3"
  },
  "language_info": {
   "codemirror_mode": {
    "name": "ipython",
    "version": 3
   },
   "file_extension": ".py",
   "mimetype": "text/x-python",
   "name": "python",
   "nbconvert_exporter": "python",
   "pygments_lexer": "ipython3",
   "version": "3.7.4"
  }
 },
 "nbformat": 4,
 "nbformat_minor": 4
}
